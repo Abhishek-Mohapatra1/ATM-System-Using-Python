{
 "cells": [
  {
   "cell_type": "code",
   "execution_count": 1,
   "id": "e0021e00",
   "metadata": {},
   "outputs": [
    {
     "name": "stdout",
     "output_type": "stream",
     "text": [
      "Please insert your card\n",
      "Please enter 4 digit pin :1234\n",
      "1: Money Withdraw  \n",
      " 2: Pin change  \n",
      " 3: Mini Statement\n",
      "enter the input :1\n",
      "enter the amount :1542\n",
      "1542 Rs transaction done.\n",
      "Current available amount in your bank is : 98458\n",
      "\n",
      "\n",
      "Thank you for using SBI\n"
     ]
    }
   ],
   "source": [
    "avail_amount=100000\n",
    "\n",
    "print('Please insert your card')\n",
    "pin=eval(input('Please enter 4 digit pin :'))\n",
    "if pin>9999 or pin<1000:\n",
    "    print('Wrong PIN entered')\n",
    "else:\n",
    "    mode=('1: Money Withdraw  \\n 2: Pin change  \\n 3: Mini Statement')\n",
    "    print(mode)\n",
    "    press=int(input('enter the input :'))\n",
    "    if press==1:\n",
    "        input_amount=eval(input('enter the amount :'))\n",
    "        if input_amount>avail_amount:\n",
    "            print('insufficient amount available in your bank')\n",
    "            print('\\n\\t')\n",
    "            print('thank you for using SBI')\n",
    "        else:\n",
    "            print(input_amount,'Rs transaction done.')\n",
    "            print('Current available amount in your bank is :',avail_amount-input_amount)\n",
    "            print('\\n')\n",
    "            print('Thank you for using SBI')\n",
    "    elif press==2:\n",
    "        num=int(input('enter the Mobile Number :'))\n",
    "        if num>9999999999 or num<1000000000:\n",
    "            print('invalid Phone Number')\n",
    "        else:\n",
    "            OTP=int(input('enter the OTP sent to your mobile number :'))\n",
    "            if OTP>9999 or OTP<1000:\n",
    "                print('wrong OTP')\n",
    "            else:\n",
    "                new_pin=int(input('Set new 4-Digit PIN :'))\n",
    "                if new_pin>9999 or new_pin<1000:\n",
    "                    print('PIN out of range')\n",
    "                else:\n",
    "                    print('PIN has been changed')\n",
    "    elif press==3:\n",
    "        print('the avail amount is :',avail_amount)\n",
    "    else:\n",
    "        print('Thank you for using XYZ Bank')"
   ]
  }
 ],
 "metadata": {
  "kernelspec": {
   "display_name": "Python 3 (ipykernel)",
   "language": "python",
   "name": "python3"
  },
  "language_info": {
   "codemirror_mode": {
    "name": "ipython",
    "version": 3
   },
   "file_extension": ".py",
   "mimetype": "text/x-python",
   "name": "python",
   "nbconvert_exporter": "python",
   "pygments_lexer": "ipython3",
   "version": "3.9.7"
  }
 },
 "nbformat": 4,
 "nbformat_minor": 5
}
